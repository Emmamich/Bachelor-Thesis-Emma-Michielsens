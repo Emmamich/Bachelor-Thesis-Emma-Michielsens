{
  "nbformat": 4,
  "nbformat_minor": 0,
  "metadata": {
    "colab": {
      "provenance": []
    },
    "kernelspec": {
      "name": "python3",
      "display_name": "Python 3"
    },
    "language_info": {
      "name": "python"
    }
  },
  "cells": [
    {
      "cell_type": "code",
      "execution_count": 1,
      "metadata": {
        "id": "9QYR9HzubVMN"
      },
      "outputs": [],
      "source": [
        "import pandas as pd\n",
        "import numpy as np\n",
        "import joblib"
      ]
    },
    {
      "cell_type": "code",
      "source": [
        "df = pd.read_excel('/content/results_alle_tweets_sentiment.xlsx')"
      ],
      "metadata": {
        "id": "CrdNdLRVbXkL"
      },
      "execution_count": 2,
      "outputs": []
    },
    {
      "cell_type": "code",
      "source": [
        "cancer_cross_sentiment = pd.crosstab(df['Kankersoort'], df['Sentiment'])\n",
        "print(cancer_cross_sentiment)"
      ],
      "metadata": {
        "colab": {
          "base_uri": "https://localhost:8080/"
        },
        "id": "7bChtW3iby5K",
        "outputId": "be5cc3ec-98af-4036-ae07-ebc87a85bc20"
      },
      "execution_count": 3,
      "outputs": [
        {
          "output_type": "stream",
          "name": "stdout",
          "text": [
            "Sentiment    negative  neutral  positive\n",
            "Kankersoort                             \n",
            "0                  12       20         5\n",
            "1                 239      304       191\n",
            "2                1271     1446      1015\n",
            "3                 151      142        88\n"
          ]
        }
      ]
    },
    {
      "cell_type": "code",
      "source": [
        "topic_cross_sentiment = pd.crosstab(df['Topic'], df['Sentiment'])\n",
        "print(topic_cross_sentiment)"
      ],
      "metadata": {
        "colab": {
          "base_uri": "https://localhost:8080/"
        },
        "id": "h0eqkGzIcF0A",
        "outputId": "25ae04a0-b706-4168-a82e-2b6cefe6222d"
      },
      "execution_count": 4,
      "outputs": [
        {
          "output_type": "stream",
          "name": "stdout",
          "text": [
            "Sentiment  negative  neutral  positive\n",
            "Topic                                 \n",
            "0                56       48        43\n",
            "1              1617     1864      1256\n"
          ]
        }
      ]
    }
  ]
}