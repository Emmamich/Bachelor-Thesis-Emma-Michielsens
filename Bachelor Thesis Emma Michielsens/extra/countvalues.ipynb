{
  "nbformat": 4,
  "nbformat_minor": 0,
  "metadata": {
    "colab": {
      "provenance": []
    },
    "kernelspec": {
      "name": "python3",
      "display_name": "Python 3"
    },
    "language_info": {
      "name": "python"
    }
  },
  "cells": [
    {
      "cell_type": "code",
      "execution_count": 25,
      "metadata": {
        "id": "yPzaEqVTgfuO"
      },
      "outputs": [],
      "source": [
        "import pandas as pd\n",
        "import numpy as np\n",
        "import joblib\n",
        "from sklearn.feature_extraction.text import TfidfVectorizer"
      ]
    },
    {
      "cell_type": "markdown",
      "source": [
        "Labelled data by SENTENCES project:"
      ],
      "metadata": {
        "id": "DfZjXE3edG4h"
      }
    },
    {
      "cell_type": "code",
      "source": [
        "df = pd.read_excel('/content/All_coding_anonimized data scriptie.xlsx')"
      ],
      "metadata": {
        "id": "zCmLXKeocs3Q"
      },
      "execution_count": 29,
      "outputs": []
    },
    {
      "cell_type": "code",
      "source": [
        "count_values = df['Inclusie'].value_counts()\n",
        "print(count_values)"
      ],
      "metadata": {
        "colab": {
          "base_uri": "https://localhost:8080/"
        },
        "id": "BZfNGL9ZcxaI",
        "outputId": "e18c0854-d0ab-434c-ed59-0d9ab4aacdd2"
      },
      "execution_count": 3,
      "outputs": [
        {
          "output_type": "stream",
          "name": "stdout",
          "text": [
            "Inclusie\n",
            "1.0    1156\n",
            "0.0     472\n",
            "2.0       1\n",
            "Name: count, dtype: int64\n"
          ]
        }
      ]
    },
    {
      "cell_type": "code",
      "source": [
        "count_values = df['Kankersoort'].value_counts()\n",
        "print(count_values)"
      ],
      "metadata": {
        "colab": {
          "base_uri": "https://localhost:8080/"
        },
        "id": "y6kl6RKEdECx",
        "outputId": "07a310d4-7541-478f-eff6-0a1f6fc31d21"
      },
      "execution_count": 4,
      "outputs": [
        {
          "output_type": "stream",
          "name": "stdout",
          "text": [
            "Kankersoort\n",
            "2.0    434\n",
            "1.0    357\n",
            "0.0    233\n",
            "3.0    139\n",
            "Name: count, dtype: int64\n"
          ]
        }
      ]
    },
    {
      "cell_type": "code",
      "source": [
        "count_values = df['Topic'].value_counts()\n",
        "print(count_values)"
      ],
      "metadata": {
        "id": "PKkH1QqPX93Q",
        "colab": {
          "base_uri": "https://localhost:8080/"
        },
        "outputId": "36c21e51-004a-4355-b8cc-aecd3b709f97"
      },
      "execution_count": 5,
      "outputs": [
        {
          "output_type": "stream",
          "name": "stdout",
          "text": [
            "Topic\n",
            "5.0    797\n",
            "0.0    176\n",
            "4.0     91\n",
            "1.0     37\n",
            "3.0     35\n",
            "2.0     25\n",
            "Name: count, dtype: int64\n"
          ]
        }
      ]
    },
    {
      "cell_type": "markdown",
      "source": [
        "Unique number of words"
      ],
      "metadata": {
        "id": "KOuE9PtMgHqI"
      }
    },
    {
      "cell_type": "code",
      "source": [
        "df['Text'].replace('', np.nan, inplace=True)\n",
        "df.dropna(subset=['Text'], inplace=True)"
      ],
      "metadata": {
        "id": "C316IqW1gc--"
      },
      "execution_count": 32,
      "outputs": []
    },
    {
      "cell_type": "code",
      "source": [
        "vectorizer = TfidfVectorizer()\n",
        "X = vectorizer.fit_transform(df['Text'])"
      ],
      "metadata": {
        "id": "fcd9hGLMgJgp"
      },
      "execution_count": 33,
      "outputs": []
    },
    {
      "cell_type": "code",
      "source": [
        "feature_names = vectorizer.get_feature_names_out()\n",
        "number_unique_words = len(feature_names)\n",
        "print(number_unique_words)"
      ],
      "metadata": {
        "colab": {
          "base_uri": "https://localhost:8080/"
        },
        "id": "lc0XGO2jgMkc",
        "outputId": "ad5f8c1b-a397-4cee-887f-c33afc3565ba"
      },
      "execution_count": 34,
      "outputs": [
        {
          "output_type": "stream",
          "name": "stdout",
          "text": [
            "5595\n"
          ]
        }
      ]
    },
    {
      "cell_type": "markdown",
      "source": [
        "Labelled by the supervised models"
      ],
      "metadata": {
        "id": "_YebsrWpfX2Y"
      }
    },
    {
      "cell_type": "code",
      "source": [
        "df = pd.read_excel('/content/results_alle_tweets_sentiment.xlsx')"
      ],
      "metadata": {
        "id": "sm4eTL41giAj"
      },
      "execution_count": 18,
      "outputs": []
    },
    {
      "cell_type": "code",
      "source": [
        "count_values = df['inclusie'].value_counts()\n",
        "print(count_values)"
      ],
      "metadata": {
        "colab": {
          "base_uri": "https://localhost:8080/"
        },
        "id": "WS1S9mzbfkuy",
        "outputId": "4a696cc3-5147-4a57-f6ee-9ae81b8d8037"
      },
      "execution_count": 22,
      "outputs": [
        {
          "output_type": "stream",
          "name": "stdout",
          "text": [
            "inclusie\n",
            "1    4725\n",
            "0     159\n",
            "Name: count, dtype: int64\n"
          ]
        }
      ]
    },
    {
      "cell_type": "code",
      "source": [
        "count_values = df['Kankersoort'].value_counts()\n",
        "print(count_values)"
      ],
      "metadata": {
        "colab": {
          "base_uri": "https://localhost:8080/"
        },
        "id": "2PZPD3pjg6ho",
        "outputId": "32f25d6d-3876-44a8-b576-97e1d9da5955"
      },
      "execution_count": 19,
      "outputs": [
        {
          "output_type": "stream",
          "name": "stdout",
          "text": [
            "Kankersoort\n",
            "2    3732\n",
            "1     734\n",
            "3     381\n",
            "0      37\n",
            "Name: count, dtype: int64\n"
          ]
        }
      ]
    },
    {
      "cell_type": "code",
      "source": [
        "count_values = df['Topic'].value_counts()\n",
        "print(count_values)"
      ],
      "metadata": {
        "colab": {
          "base_uri": "https://localhost:8080/"
        },
        "id": "r1GRtgk8ha4v",
        "outputId": "b7a77d40-210f-420d-bd65-36e7057bc4e2"
      },
      "execution_count": 20,
      "outputs": [
        {
          "output_type": "stream",
          "name": "stdout",
          "text": [
            "Topic\n",
            "1    4737\n",
            "0     147\n",
            "Name: count, dtype: int64\n"
          ]
        }
      ]
    },
    {
      "cell_type": "markdown",
      "source": [
        "Labelled by the unsupervised model"
      ],
      "metadata": {
        "id": "5Df526E7fxDI"
      }
    },
    {
      "cell_type": "code",
      "source": [
        "count_values = df['Sentiment'].value_counts()\n",
        "print(count_values)"
      ],
      "metadata": {
        "colab": {
          "base_uri": "https://localhost:8080/"
        },
        "id": "gUATFVL6X90z",
        "outputId": "24b6cf9b-4297-4c2c-c9d8-c73b5b2a8b95"
      },
      "execution_count": 23,
      "outputs": [
        {
          "output_type": "stream",
          "name": "stdout",
          "text": [
            "Sentiment\n",
            "neutral     1912\n",
            "negative    1673\n",
            "positive    1299\n",
            "Name: count, dtype: int64\n"
          ]
        }
      ]
    }
  ]
}